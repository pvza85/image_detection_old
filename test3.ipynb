{
 "cells": [
  {
   "cell_type": "code",
   "execution_count": 1,
   "metadata": {
    "collapsed": false
   },
   "outputs": [
    {
     "name": "stderr",
     "output_type": "stream",
     "text": [
      "/usr/local/lib/python2.7/dist-packages/ipykernel/__main__.py:5: DeprecationWarning: You passed a bytestring as `filenames`. This will not work on Python 3. Use `cp.read_file()` or switch to using Unicode strings across the board.\n"
     ]
    }
   ],
   "source": [
    "import preprocess\n",
    "import configparser\n",
    "\n",
    "config = configparser.ConfigParser()\n",
    "config.read('config.ini')\n",
    "mode = 'local'\n",
    "res = preprocess.prepare_augmented_images(config[mode])"
   ]
  },
  {
   "cell_type": "code",
   "execution_count": 2,
   "metadata": {
    "collapsed": false
   },
   "outputs": [
    {
     "data": {
      "text/plain": [
       "{u'book_covers': {u'5800': (u'/home/payam/dataset/stanford_mobile_images/book_covers/5800_train.txt',\n",
       "   u'/home/payam/dataset/stanford_mobile_images/book_covers/5800_test.txt'),\n",
       "  u'Canon': (u'/home/payam/dataset/stanford_mobile_images/book_covers/Canon_train.txt',\n",
       "   u'/home/payam/dataset/stanford_mobile_images/book_covers/Canon_test.txt'),\n",
       "  u'Droid': (u'/home/payam/dataset/stanford_mobile_images/book_covers/Droid_train.txt',\n",
       "   u'/home/payam/dataset/stanford_mobile_images/book_covers/Droid_test.txt'),\n",
       "  u'iPhone': (u'/home/payam/dataset/stanford_mobile_images/book_covers/iPhone_train.txt',\n",
       "   u'/home/payam/dataset/stanford_mobile_images/book_covers/iPhone_test.txt')},\n",
       " u'book_covers.zip': {u'5800': (u'/home/payam/dataset/stanford_mobile_images/book_covers/5800_train.txt',\n",
       "   u'/home/payam/dataset/stanford_mobile_images/book_covers/5800_test.txt'),\n",
       "  u'Canon': (u'/home/payam/dataset/stanford_mobile_images/book_covers/Canon_train.txt',\n",
       "   u'/home/payam/dataset/stanford_mobile_images/book_covers/Canon_test.txt'),\n",
       "  u'Droid': (u'/home/payam/dataset/stanford_mobile_images/book_covers/Droid_train.txt',\n",
       "   u'/home/payam/dataset/stanford_mobile_images/book_covers/Droid_test.txt'),\n",
       "  u'iPhone': (u'/home/payam/dataset/stanford_mobile_images/book_covers/iPhone_train.txt',\n",
       "   u'/home/payam/dataset/stanford_mobile_images/book_covers/iPhone_test.txt')},\n",
       " u'business_cards': {u'Canon': (u'/home/payam/dataset/stanford_mobile_images/business_cards/Canon_train.txt',\n",
       "   u'/home/payam/dataset/stanford_mobile_images/business_cards/Canon_test.txt'),\n",
       "  u'Droid': (u'/home/payam/dataset/stanford_mobile_images/business_cards/Droid_train.txt',\n",
       "   u'/home/payam/dataset/stanford_mobile_images/business_cards/Droid_test.txt'),\n",
       "  u'E63': (u'/home/payam/dataset/stanford_mobile_images/business_cards/E63_train.txt',\n",
       "   u'/home/payam/dataset/stanford_mobile_images/business_cards/E63_test.txt'),\n",
       "  u'Palm': (u'/home/payam/dataset/stanford_mobile_images/business_cards/Palm_train.txt',\n",
       "   u'/home/payam/dataset/stanford_mobile_images/business_cards/Palm_test.txt')},\n",
       " u'business_cards.zip': {u'5800': (u'/home/payam/dataset/stanford_mobile_images/book_covers/5800_train.txt',\n",
       "   u'/home/payam/dataset/stanford_mobile_images/book_covers/5800_test.txt'),\n",
       "  u'Canon': (u'/home/payam/dataset/stanford_mobile_images/book_covers/Canon_train.txt',\n",
       "   u'/home/payam/dataset/stanford_mobile_images/book_covers/Canon_test.txt'),\n",
       "  u'Droid': (u'/home/payam/dataset/stanford_mobile_images/book_covers/Droid_train.txt',\n",
       "   u'/home/payam/dataset/stanford_mobile_images/book_covers/Droid_test.txt'),\n",
       "  u'iPhone': (u'/home/payam/dataset/stanford_mobile_images/book_covers/iPhone_train.txt',\n",
       "   u'/home/payam/dataset/stanford_mobile_images/book_covers/iPhone_test.txt')},\n",
       " u'cd_covers': {u'Canon': (u'/home/payam/dataset/stanford_mobile_images/cd_covers/Canon_train.txt',\n",
       "   u'/home/payam/dataset/stanford_mobile_images/cd_covers/Canon_test.txt'),\n",
       "  u'Droid': (u'/home/payam/dataset/stanford_mobile_images/cd_covers/Droid_train.txt',\n",
       "   u'/home/payam/dataset/stanford_mobile_images/cd_covers/Droid_test.txt'),\n",
       "  u'E63': (u'/home/payam/dataset/stanford_mobile_images/cd_covers/E63_train.txt',\n",
       "   u'/home/payam/dataset/stanford_mobile_images/cd_covers/E63_test.txt'),\n",
       "  u'Palm': (u'/home/payam/dataset/stanford_mobile_images/cd_covers/Palm_train.txt',\n",
       "   u'/home/payam/dataset/stanford_mobile_images/cd_covers/Palm_test.txt')},\n",
       " u'cd_covers.zip': {u'5800': (u'/home/payam/dataset/stanford_mobile_images/book_covers/5800_train.txt',\n",
       "   u'/home/payam/dataset/stanford_mobile_images/book_covers/5800_test.txt'),\n",
       "  u'Canon': (u'/home/payam/dataset/stanford_mobile_images/book_covers/Canon_train.txt',\n",
       "   u'/home/payam/dataset/stanford_mobile_images/book_covers/Canon_test.txt'),\n",
       "  u'Droid': (u'/home/payam/dataset/stanford_mobile_images/book_covers/Droid_train.txt',\n",
       "   u'/home/payam/dataset/stanford_mobile_images/book_covers/Droid_test.txt'),\n",
       "  u'iPhone': (u'/home/payam/dataset/stanford_mobile_images/book_covers/iPhone_train.txt',\n",
       "   u'/home/payam/dataset/stanford_mobile_images/book_covers/iPhone_test.txt')},\n",
       " u'landmarks.zip': {u'Canon': (u'/home/payam/dataset/stanford_mobile_images/business_cards/Canon_train.txt',\n",
       "   u'/home/payam/dataset/stanford_mobile_images/business_cards/Canon_test.txt'),\n",
       "  u'Droid': (u'/home/payam/dataset/stanford_mobile_images/business_cards/Droid_train.txt',\n",
       "   u'/home/payam/dataset/stanford_mobile_images/business_cards/Droid_test.txt'),\n",
       "  u'E63': (u'/home/payam/dataset/stanford_mobile_images/business_cards/E63_train.txt',\n",
       "   u'/home/payam/dataset/stanford_mobile_images/business_cards/E63_test.txt'),\n",
       "  u'Palm': (u'/home/payam/dataset/stanford_mobile_images/business_cards/Palm_train.txt',\n",
       "   u'/home/payam/dataset/stanford_mobile_images/business_cards/Palm_test.txt')},\n",
       " u'museum_paintings': {u'Canon': (u'/home/payam/dataset/stanford_mobile_images/museum_paintings/Canon_train.txt',\n",
       "   u'/home/payam/dataset/stanford_mobile_images/museum_paintings/Canon_test.txt'),\n",
       "  u'Droid': (u'/home/payam/dataset/stanford_mobile_images/museum_paintings/Droid_train.txt',\n",
       "   u'/home/payam/dataset/stanford_mobile_images/museum_paintings/Droid_test.txt'),\n",
       "  u'E63': (u'/home/payam/dataset/stanford_mobile_images/museum_paintings/E63_train.txt',\n",
       "   u'/home/payam/dataset/stanford_mobile_images/museum_paintings/E63_test.txt'),\n",
       "  u'Palm': (u'/home/payam/dataset/stanford_mobile_images/museum_paintings/Palm_train.txt',\n",
       "   u'/home/payam/dataset/stanford_mobile_images/museum_paintings/Palm_test.txt')},\n",
       " u'museum_paintings.zip': {u'Canon': (u'/home/payam/dataset/stanford_mobile_images/business_cards/Canon_train.txt',\n",
       "   u'/home/payam/dataset/stanford_mobile_images/business_cards/Canon_test.txt'),\n",
       "  u'Droid': (u'/home/payam/dataset/stanford_mobile_images/business_cards/Droid_train.txt',\n",
       "   u'/home/payam/dataset/stanford_mobile_images/business_cards/Droid_test.txt'),\n",
       "  u'E63': (u'/home/payam/dataset/stanford_mobile_images/business_cards/E63_train.txt',\n",
       "   u'/home/payam/dataset/stanford_mobile_images/business_cards/E63_test.txt'),\n",
       "  u'Palm': (u'/home/payam/dataset/stanford_mobile_images/business_cards/Palm_train.txt',\n",
       "   u'/home/payam/dataset/stanford_mobile_images/business_cards/Palm_test.txt')},\n",
       " u'print': {u'Canon': (u'/home/payam/dataset/stanford_mobile_images/print/Canon_train.txt',\n",
       "   u'/home/payam/dataset/stanford_mobile_images/print/Canon_test.txt'),\n",
       "  u'Droid': (u'/home/payam/dataset/stanford_mobile_images/print/Droid_train.txt',\n",
       "   u'/home/payam/dataset/stanford_mobile_images/print/Droid_test.txt'),\n",
       "  u'E63': (u'/home/payam/dataset/stanford_mobile_images/print/E63_train.txt',\n",
       "   u'/home/payam/dataset/stanford_mobile_images/print/E63_test.txt'),\n",
       "  u'Palm': (u'/home/payam/dataset/stanford_mobile_images/print/Palm_train.txt',\n",
       "   u'/home/payam/dataset/stanford_mobile_images/print/Palm_test.txt')},\n",
       " u'print.zip': {u'5800': (u'/home/payam/dataset/stanford_mobile_images/book_covers/5800_train.txt',\n",
       "   u'/home/payam/dataset/stanford_mobile_images/book_covers/5800_test.txt'),\n",
       "  u'Canon': (u'/home/payam/dataset/stanford_mobile_images/book_covers/Canon_train.txt',\n",
       "   u'/home/payam/dataset/stanford_mobile_images/book_covers/Canon_test.txt'),\n",
       "  u'Droid': (u'/home/payam/dataset/stanford_mobile_images/book_covers/Droid_train.txt',\n",
       "   u'/home/payam/dataset/stanford_mobile_images/book_covers/Droid_test.txt'),\n",
       "  u'iPhone': (u'/home/payam/dataset/stanford_mobile_images/book_covers/iPhone_train.txt',\n",
       "   u'/home/payam/dataset/stanford_mobile_images/book_covers/iPhone_test.txt')},\n",
       " u'result_inception3_00.pickle': {u'5800': (u'/home/payam/dataset/stanford_mobile_images/book_covers/5800_train.txt',\n",
       "   u'/home/payam/dataset/stanford_mobile_images/book_covers/5800_test.txt'),\n",
       "  u'Canon': (u'/home/payam/dataset/stanford_mobile_images/book_covers/Canon_train.txt',\n",
       "   u'/home/payam/dataset/stanford_mobile_images/book_covers/Canon_test.txt'),\n",
       "  u'Droid': (u'/home/payam/dataset/stanford_mobile_images/book_covers/Droid_train.txt',\n",
       "   u'/home/payam/dataset/stanford_mobile_images/book_covers/Droid_test.txt'),\n",
       "  u'iPhone': (u'/home/payam/dataset/stanford_mobile_images/book_covers/iPhone_train.txt',\n",
       "   u'/home/payam/dataset/stanford_mobile_images/book_covers/iPhone_test.txt')}}"
      ]
     },
     "execution_count": 2,
     "metadata": {},
     "output_type": "execute_result"
    }
   ],
   "source": [
    "res"
   ]
  },
  {
   "cell_type": "code",
   "execution_count": null,
   "metadata": {
    "collapsed": true
   },
   "outputs": [],
   "source": []
  }
 ],
 "metadata": {
  "kernelspec": {
   "display_name": "Python 2",
   "language": "python",
   "name": "python2"
  },
  "language_info": {
   "codemirror_mode": {
    "name": "ipython",
    "version": 2
   },
   "file_extension": ".py",
   "mimetype": "text/x-python",
   "name": "python",
   "nbconvert_exporter": "python",
   "pygments_lexer": "ipython2",
   "version": "2.7.12"
  }
 },
 "nbformat": 4,
 "nbformat_minor": 0
}
