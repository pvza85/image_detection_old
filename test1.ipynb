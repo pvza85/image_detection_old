{
 "cells": [
  {
   "cell_type": "code",
   "execution_count": 1,
   "metadata": {
    "collapsed": false
   },
   "outputs": [],
   "source": [
    "import warnings\n",
    "import configparser\n",
    "import feature_extractor\n",
    "\n",
    "warnings.filterwarnings('ignore')\n",
    "\n",
    "config = configparser.ConfigParser()\n",
    "config.read('config.ini')\n",
    "\n",
    "    mode = 'local'\n",
    "    extractor = feature_extractor.simple_extractor(config[mode])\n",
    "#extractor.extract()"
   ]
  },
  {
   "cell_type": "code",
   "execution_count": 2,
   "metadata": {
    "collapsed": false
   },
   "outputs": [
    {
     "name": "stdout",
     "output_type": "stream",
     "text": [
      "{u'print': {u'Canon': 5.0, u'E63': 5.0, u'Droid': 4.0, u'Palm': 8.0}, u'cd_covers': {u'Canon': 10.0, u'E63': 14.000000000000002, u'Droid': 30.0, u'Palm': 22.0}, u'museum_paintings': {u'Canon': 13.186813186813188, u'E63': 10.989010989010989, u'Droid': 10.989010989010989, u'Palm': 16.483516483516482}, u'business_cards': {u'Canon': 20.0, u'E63': 15.0, u'Droid': 13.0, u'Palm': 13.0}, u'book_covers': {u'Canon': 13.861386138613863, u'Droid': 18.81188118811881, u'5800': 8.91089108910891, u'iPhone': 20.792079207920793}}\n"
     ]
    }
   ],
   "source": [
    "import detection\n",
    "import pandas as pd\n",
    "from pandas import DataFrame\n",
    "import numpy as np\n",
    "\n",
    "predictor = detection.CombinedDistancePredictor(dataset_path=config['local']['output_path'],  \n",
    "                                      feature_file_postfix='features_googlenet_pool5_7x7_s10',\n",
    "                                    window = 10, weights=[44, 24, 33])\n",
    "res = predictor.predict()\n",
    "print res\n",
    "\n",
    "\n"
   ]
  },
  {
   "cell_type": "code",
   "execution_count": 3,
   "metadata": {
    "collapsed": false
   },
   "outputs": [
    {
     "data": {
      "text/html": [
       "<div>\n",
       "<table border=\"1\" class=\"dataframe\">\n",
       "  <thead>\n",
       "    <tr style=\"text-align: right;\">\n",
       "      <th></th>\n",
       "      <th>book_covers</th>\n",
       "      <th>business_cards</th>\n",
       "      <th>cd_covers</th>\n",
       "      <th>museum_paintings</th>\n",
       "      <th>print</th>\n",
       "    </tr>\n",
       "  </thead>\n",
       "  <tbody>\n",
       "    <tr>\n",
       "      <th>5800</th>\n",
       "      <td>8.91089</td>\n",
       "      <td>-</td>\n",
       "      <td>-</td>\n",
       "      <td>-</td>\n",
       "      <td>-</td>\n",
       "    </tr>\n",
       "    <tr>\n",
       "      <th>Canon</th>\n",
       "      <td>13.8614</td>\n",
       "      <td>20</td>\n",
       "      <td>10</td>\n",
       "      <td>13.1868</td>\n",
       "      <td>5</td>\n",
       "    </tr>\n",
       "    <tr>\n",
       "      <th>Droid</th>\n",
       "      <td>18.8119</td>\n",
       "      <td>13</td>\n",
       "      <td>30</td>\n",
       "      <td>10.989</td>\n",
       "      <td>4</td>\n",
       "    </tr>\n",
       "    <tr>\n",
       "      <th>E63</th>\n",
       "      <td>-</td>\n",
       "      <td>15</td>\n",
       "      <td>14</td>\n",
       "      <td>10.989</td>\n",
       "      <td>5</td>\n",
       "    </tr>\n",
       "    <tr>\n",
       "      <th>Palm</th>\n",
       "      <td>-</td>\n",
       "      <td>13</td>\n",
       "      <td>22</td>\n",
       "      <td>16.4835</td>\n",
       "      <td>8</td>\n",
       "    </tr>\n",
       "    <tr>\n",
       "      <th>iPhone</th>\n",
       "      <td>20.7921</td>\n",
       "      <td>-</td>\n",
       "      <td>-</td>\n",
       "      <td>-</td>\n",
       "      <td>-</td>\n",
       "    </tr>\n",
       "  </tbody>\n",
       "</table>\n",
       "</div>"
      ],
      "text/plain": [
       "       book_covers business_cards cd_covers museum_paintings print\n",
       "5800       8.91089              -         -                -     -\n",
       "Canon      13.8614             20        10          13.1868     5\n",
       "Droid      18.8119             13        30           10.989     4\n",
       "E63              -             15        14           10.989     5\n",
       "Palm             -             13        22          16.4835     8\n",
       "iPhone     20.7921              -         -                -     -"
      ]
     },
     "execution_count": 3,
     "metadata": {},
     "output_type": "execute_result"
    }
   ],
   "source": [
    "df = DataFrame(res)\n",
    "df = df.replace(np.nan, '-')\n",
    "df"
   ]
  },
  {
   "cell_type": "code",
   "execution_count": null,
   "metadata": {
    "collapsed": true
   },
   "outputs": [],
   "source": []
  }
 ],
 "metadata": {
  "kernelspec": {
   "display_name": "Python 2",
   "language": "python",
   "name": "python2"
  },
  "language_info": {
   "codemirror_mode": {
    "name": "ipython",
    "version": 2
   },
   "file_extension": ".py",
   "mimetype": "text/x-python",
   "name": "python",
   "nbconvert_exporter": "python",
   "pygments_lexer": "ipython2",
   "version": "2.7.12"
  }
 },
 "nbformat": 4,
 "nbformat_minor": 0
}
